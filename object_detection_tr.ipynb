{
 "cells": [
  {
   "cell_type": "code",
   "execution_count": 34,
   "metadata": {},
   "outputs": [],
   "source": [
    "from keras.layers import Dropout,Dense, Flatten\n",
    "from keras.models import Model\n",
    "import numpy as np\n",
    "import pandas as pd\n",
    "import matplotlib.pyplot as plt\n",
    "from keras.preprocessing.image import ImageDataGenerator\n"
   ]
  },
  {
   "cell_type": "code",
   "execution_count": 35,
   "metadata": {},
   "outputs": [],
   "source": [
    "dataset_path=\"LP-IV-datasets/ObjectDetection_Ass6/caltech-101-img/\"\n"
   ]
  },
  {
   "cell_type": "code",
   "execution_count": 36,
   "metadata": {},
   "outputs": [],
   "source": [
    "image_datagen=ImageDataGenerator(\n",
    "    rescale=1.0/255\n",
    ")\n"
   ]
  },
  {
   "cell_type": "code",
   "execution_count": 37,
   "metadata": {},
   "outputs": [
    {
     "name": "stdout",
     "output_type": "stream",
     "text": [
      "Found 9144 images belonging to 102 classes.\n"
     ]
    }
   ],
   "source": [
    "data_generator=image_datagen.flow_from_directory(\n",
    "    dataset_path,\n",
    "    batch_size=2000,\n",
    "    class_mode='categorical',\n",
    "    \n",
    "    target_size=(64,64)\n",
    ")"
   ]
  },
  {
   "cell_type": "code",
   "execution_count": 38,
   "metadata": {},
   "outputs": [],
   "source": [
    "x_train,y_train= data_generator[0]\n",
    "x_test,y_test=data_generator[1]"
   ]
  },
  {
   "cell_type": "code",
   "execution_count": 39,
   "metadata": {},
   "outputs": [],
   "source": [
    "from keras.applications import VGG16"
   ]
  },
  {
   "cell_type": "code",
   "execution_count": 40,
   "metadata": {},
   "outputs": [],
   "source": [
    "weights_path=\"LP-IV-datasets/ObjectDetection_Ass6/vgg16_weights_tf_dim_ordering_tf_kernels_notop.h5\"\n",
    "basemodel=VGG16(weights=weights_path,include_top=False,input_shape=(64,64,3))"
   ]
  },
  {
   "cell_type": "code",
   "execution_count": 41,
   "metadata": {},
   "outputs": [],
   "source": [
    "for layer in basemodel.layers:\n",
    "    layer.trainable=False\n",
    "    "
   ]
  },
  {
   "cell_type": "code",
   "execution_count": 42,
   "metadata": {},
   "outputs": [],
   "source": [
    "x=Flatten()(basemodel.output)\n",
    "x=Dense(64,activation='relu')(x)\n",
    "predictions=Dense(102,activation='softmax')(x)\n",
    "\n",
    "model=Model(inputs=basemodel.input,outputs=predictions)\n",
    "model.compile(optimizer='adam',loss='categorical_crossentropy', metrics=['accuracy'])"
   ]
  },
  {
   "cell_type": "code",
   "execution_count": 43,
   "metadata": {},
   "outputs": [
    {
     "name": "stdout",
     "output_type": "stream",
     "text": [
      "Epoch 1/10\n",
      "32/32 [==============================] - 52s 2s/step - loss: 3.9555 - accuracy: 0.1905 - val_loss: 3.3934 - val_accuracy: 0.2920\n",
      "Epoch 2/10\n",
      "32/32 [==============================] - 53s 2s/step - loss: 2.9928 - accuracy: 0.3575 - val_loss: 2.9205 - val_accuracy: 0.3950\n",
      "Epoch 3/10\n",
      "32/32 [==============================] - 50s 2s/step - loss: 2.4673 - accuracy: 0.4700 - val_loss: 2.6213 - val_accuracy: 0.4345\n",
      "Epoch 4/10\n",
      "32/32 [==============================] - 52s 2s/step - loss: 2.0688 - accuracy: 0.5590 - val_loss: 2.4067 - val_accuracy: 0.4780\n",
      "Epoch 5/10\n",
      "32/32 [==============================] - 51s 2s/step - loss: 1.7527 - accuracy: 0.6260 - val_loss: 2.2452 - val_accuracy: 0.4930\n",
      "Epoch 6/10\n",
      "32/32 [==============================] - 50s 2s/step - loss: 1.5202 - accuracy: 0.6780 - val_loss: 2.1168 - val_accuracy: 0.5200\n",
      "Epoch 7/10\n",
      "32/32 [==============================] - 51s 2s/step - loss: 1.3479 - accuracy: 0.7170 - val_loss: 2.0773 - val_accuracy: 0.5305\n",
      "Epoch 8/10\n",
      "32/32 [==============================] - 50s 2s/step - loss: 1.1791 - accuracy: 0.7485 - val_loss: 1.9893 - val_accuracy: 0.5505\n",
      "Epoch 9/10\n",
      "32/32 [==============================] - 51s 2s/step - loss: 1.0371 - accuracy: 0.7885 - val_loss: 1.9733 - val_accuracy: 0.5480\n",
      "Epoch 10/10\n",
      "32/32 [==============================] - 48s 2s/step - loss: 0.9312 - accuracy: 0.8095 - val_loss: 1.9125 - val_accuracy: 0.5585\n"
     ]
    },
    {
     "data": {
      "text/plain": [
       "<keras.callbacks.History at 0x1a084c05c70>"
      ]
     },
     "execution_count": 43,
     "metadata": {},
     "output_type": "execute_result"
    }
   ],
   "source": [
    "model.fit(x_train,y_train,validation_data=(x_test,y_test),batch_size=64, epochs=10)"
   ]
  },
  {
   "cell_type": "code",
   "execution_count": 52,
   "metadata": {},
   "outputs": [],
   "source": [
    "from tensorflow.keras.optimizers import Adam\n",
    "basemodel=VGG16(weights=weights_path,include_top=False,input_shape=(64,64,3))\n",
    "\n",
    "\n",
    "for layer in basemodel.layers:\n",
    "    layer.trainable=False\n",
    "\n",
    "for layer in basemodel.layers[len(basemodel.layers)-2:]:\n",
    "    layer.trainable=True\n",
    "\n",
    "x=Flatten()(basemodel.output)\n",
    "x=Dense(512,activation='relu')(x)\n",
    "# x=Dense(128, activation='relu')(x)\n",
    "# x=Dense(64,activation='relu')(x)\n",
    "x=Dropout(0.2)(x)\n",
    "predictions=Dense(102,activation='softmax')(x)\n",
    "\n",
    "\n",
    "model=Model(inputs=basemodel.input,outputs=predictions)\n",
    "model.compile(optimizer=Adam(learning_rate=0.001), loss='categorical_crossentropy', metrics=['accuracy'])"
   ]
  },
  {
   "cell_type": "code",
   "execution_count": 53,
   "metadata": {},
   "outputs": [
    {
     "name": "stdout",
     "output_type": "stream",
     "text": [
      "Epoch 1/10\n",
      "32/32 [==============================] - 64s 2s/step - loss: 3.1591 - accuracy: 0.3460 - val_loss: 2.3925 - val_accuracy: 0.4530\n",
      "Epoch 2/10\n",
      "32/32 [==============================] - 68s 2s/step - loss: 1.7448 - accuracy: 0.5735 - val_loss: 1.9706 - val_accuracy: 0.5385\n",
      "Epoch 3/10\n",
      "32/32 [==============================] - 56s 2s/step - loss: 1.0678 - accuracy: 0.7215 - val_loss: 1.7695 - val_accuracy: 0.5845\n",
      "Epoch 4/10\n",
      "32/32 [==============================] - 53s 2s/step - loss: 0.6536 - accuracy: 0.8220 - val_loss: 1.7201 - val_accuracy: 0.6040\n",
      "Epoch 5/10\n",
      "32/32 [==============================] - 52s 2s/step - loss: 0.3418 - accuracy: 0.9155 - val_loss: 1.9540 - val_accuracy: 0.5820\n",
      "Epoch 6/10\n",
      "32/32 [==============================] - 56s 2s/step - loss: 0.2101 - accuracy: 0.9450 - val_loss: 1.8775 - val_accuracy: 0.6200\n",
      "Epoch 7/10\n",
      "32/32 [==============================] - 57s 2s/step - loss: 0.1314 - accuracy: 0.9645 - val_loss: 1.9072 - val_accuracy: 0.6150\n",
      "Epoch 8/10\n",
      "32/32 [==============================] - 52s 2s/step - loss: 0.0719 - accuracy: 0.9865 - val_loss: 1.9220 - val_accuracy: 0.6280\n",
      "Epoch 9/10\n",
      "32/32 [==============================] - 53s 2s/step - loss: 0.0442 - accuracy: 0.9905 - val_loss: 2.0275 - val_accuracy: 0.6285\n",
      "Epoch 10/10\n",
      "32/32 [==============================] - 51s 2s/step - loss: 0.0462 - accuracy: 0.9895 - val_loss: 1.9181 - val_accuracy: 0.6365\n"
     ]
    },
    {
     "data": {
      "text/plain": [
       "<keras.callbacks.History at 0x1a0888755b0>"
      ]
     },
     "execution_count": 53,
     "metadata": {},
     "output_type": "execute_result"
    }
   ],
   "source": [
    "model.fit(x_train,y_train,validation_data=(x_test,y_test),epochs=10,batch_size=64)"
   ]
  },
  {
   "cell_type": "code",
   "execution_count": 54,
   "metadata": {},
   "outputs": [
    {
     "name": "stdout",
     "output_type": "stream",
     "text": [
      "63/63 [==============================] - 26s 412ms/step\n"
     ]
    }
   ],
   "source": [
    "predicted_value=model.predict(x_test)"
   ]
  },
  {
   "cell_type": "code",
   "execution_count": 47,
   "metadata": {},
   "outputs": [],
   "source": [
    "labels=list(data_generator.class_indices.keys())"
   ]
  },
  {
   "cell_type": "code",
   "execution_count": 51,
   "metadata": {},
   "outputs": [
    {
     "name": "stdout",
     "output_type": "stream",
     "text": [
      "predicted value:  crocodile\n",
      "Actual value:  ceiling_fan\n"
     ]
    },
    {
     "data": {
      "image/png": "[encoded data removed]",
      "text/plain": [
       "<Figure size 640x480 with 1 Axes>"
      ]
     },
     "metadata": {},
     "output_type": "display_data"
    }
   ],
   "source": [
    "n=106\n",
    "plt.imshow(x_test[n])\n",
    "print(\"predicted value: \",labels[np.argmax(predicted_value[n])])\n",
    "print(\"Actual value: \",labels[np.argmax(y_test[n])])\n"
   ]
  },
  {
   "cell_type": "code",
   "execution_count": null,
   "metadata": {},
   "outputs": [],
   "source": []
  }
 ],
 "metadata": {
  "kernelspec": {
   "display_name": "base",
   "language": "python",
   "name": "python3"
  },
  "language_info": {
   "codemirror_mode": {
    "name": "ipython",
    "version": 3
   },
   "file_extension": ".py",
   "mimetype": "text/x-python",
   "name": "python",
   "nbconvert_exporter": "python",
   "pygments_lexer": "ipython3",
   "version": "3.9.12"
  }
 },
 "nbformat": 4,
 "nbformat_minor": 2
}
