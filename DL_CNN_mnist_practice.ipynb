{
 "cells": [
  {
   "cell_type": "code",
   "execution_count": 1,
   "metadata": {},
   "outputs": [
    {
     "name": "stderr",
     "output_type": "stream",
     "text": [
      "c:\\Users\\mhatr\\AppData\\Local\\Programs\\Python\\Python310\\lib\\site-packages\\scipy\\__init__.py:155: UserWarning: A NumPy version >=1.18.5 and <1.25.0 is required for this version of SciPy (detected version 1.26.1\n",
      "  warnings.warn(f\"A NumPy version >={np_minversion} and <{np_maxversion}\"\n"
     ]
    }
   ],
   "source": [
    "import tensorflow as tf\n",
    "import keras\n",
    "from keras import layers,models\n",
    "from keras.preprocessing.image import ImageDataGenerator\n",
    "import pandas as pd\n",
    "import numpy as np\n",
    "import matplotlib.pyplot as plt\n",
    "import os"
   ]
  },
  {
   "cell_type": "code",
   "execution_count": 2,
   "metadata": {},
   "outputs": [
    {
     "name": "stdout",
     "output_type": "stream",
     "text": [
      "(60000, 785)\n"
     ]
    }
   ],
   "source": [
    "df_train=pd.read_csv(\"/DL/LP-IV-datasets/MNIST/mnist_train.csv\")\n",
    "print(df_train.shape)\n",
    "\n",
    "image_data=df_train.iloc[:,1:].values\n",
    "label_data=df_train.iloc[:,0].values\n",
    "\n",
    "output_folder=\"images\"\n",
    "os.makedirs(output_folder,exist_ok=True)\n",
    "output_folder=\"images/train\"\n",
    "os.makedirs(output_folder,exist_ok=True)\n",
    "\n",
    "num_range=300\n",
    "\n",
    "for i in range(num_range):\n",
    "    pixel_values=image_data[i,:].reshape(28,28)\n",
    "    label=label_data[i]\n",
    "\n",
    "    label_folder=os.path.join(output_folder,str(label))\n",
    "    os.makedirs(label_folder,exist_ok=True)\n",
    "\n",
    "    pic_image=os.path.join(label_folder,f\"index_{i}.png\")\n",
    "    plt.imsave(pic_image,pixel_values,cmap='gray')"
   ]
  },
  {
   "cell_type": "code",
   "execution_count": 3,
   "metadata": {},
   "outputs": [
    {
     "name": "stdout",
     "output_type": "stream",
     "text": [
      "(60000, 785)\n"
     ]
    }
   ],
   "source": [
    "df_test=pd.read_csv(\"/DL/LP-IV-datasets/MNIST/mnist_train.csv\")\n",
    "print(df_test.shape)\n",
    "\n",
    "image_data=df_test.iloc[:,1:].values\n",
    "label_data=df_test.iloc[:,0].values\n",
    "\n",
    "output_folder=\"images\"\n",
    "os.makedirs(output_folder,exist_ok=True)\n",
    "output_folder=\"images/test\"\n",
    "os.makedirs(output_folder,exist_ok=True)\n",
    "\n",
    "num_range=300\n",
    "\n",
    "for i in range(num_range):\n",
    "    pixel_values=image_data[i,:].reshape(28,28)\n",
    "    label=label_data[i]\n",
    "\n",
    "    label_folder=os.path.join(output_folder,str(label))\n",
    "    os.makedirs(label_folder,exist_ok=True)\n",
    "\n",
    "    pic_image=os.path.join(label_folder,f\"index_{i}.png\")\n",
    "    plt.imsave(pic_image,pixel_values,cmap='gray')"
   ]
  },
  {
   "cell_type": "code",
   "execution_count": 4,
   "metadata": {},
   "outputs": [],
   "source": [
    "train_datagen=ImageDataGenerator(\n",
    "    rescale=1/255\n",
    ")\n",
    "\n",
    "test_datagen=ImageDataGenerator(\n",
    "    rescale=1/255\n",
    ")"
   ]
  },
  {
   "cell_type": "code",
   "execution_count": 5,
   "metadata": {},
   "outputs": [
    {
     "name": "stdout",
     "output_type": "stream",
     "text": [
      "Found 573 images belonging to 10 classes.\n",
      "Found 565 images belonging to 10 classes.\n"
     ]
    }
   ],
   "source": [
    "train_dir='/DL/images/train/'\n",
    "test_dir='/DL/images/test/'\n",
    "\n",
    "train_generator=train_datagen.flow_from_directory(\n",
    "    train_dir,\n",
    "    target_size=(28,28),\n",
    "    class_mode=\"categorical\",\n",
    "    color_mode='grayscale',\n",
    "    batch_size=100\n",
    ")\n",
    "\n",
    "test_generator=test_datagen.flow_from_directory(\n",
    "    test_dir,\n",
    "    target_size=(28,28),\n",
    "    class_mode=\"categorical\",\n",
    "    color_mode='grayscale',\n",
    "    batch_size=100\n",
    ")"
   ]
  },
  {
   "cell_type": "code",
   "execution_count": 6,
   "metadata": {},
   "outputs": [],
   "source": [
    "x_train,y_train=train_generator[0]\n",
    "x_test,y_test=test_generator[0]"
   ]
  },
  {
   "cell_type": "code",
   "execution_count": 11,
   "metadata": {},
   "outputs": [
    {
     "name": "stdout",
     "output_type": "stream",
     "text": [
      "Model: \"sequential_3\"\n",
      "_________________________________________________________________\n",
      " Layer (type)                Output Shape              Param #   \n",
      "=================================================================\n",
      " conv2d_3 (Conv2D)           (None, 26, 26, 32)        320       \n",
      "                                                                 \n",
      " max_pooling2d_3 (MaxPoolin  (None, 13, 13, 32)        0         \n",
      " g2D)                                                            \n",
      "                                                                 \n",
      " flatten_3 (Flatten)         (None, 5408)              0         \n",
      "                                                                 \n",
      " dense_6 (Dense)             (None, 128)               692352    \n",
      "                                                                 \n",
      " dense_7 (Dense)             (None, 10)                1290      \n",
      "                                                                 \n",
      "=================================================================\n",
      "Total params: 693962 (2.65 MB)\n",
      "Trainable params: 693962 (2.65 MB)\n",
      "Non-trainable params: 0 (0.00 Byte)\n",
      "_________________________________________________________________\n"
     ]
    }
   ],
   "source": [
    "model=models.Sequential([\n",
    "    layers.Conv2D(32,(3,3),activation='relu',input_shape=(28,28,1)),\n",
    "    layers.MaxPooling2D((2,2)),\n",
    "    layers.Flatten(),\n",
    "    layers.Dense(128,activation='relu'),\n",
    "    layers.Dense(10,activation='softmax')\n",
    "])\n",
    "\n",
    "model.compile(optimizer='adam',loss='categorical_crossentropy',metrics=['accuracy'])\n",
    "model.summary()"
   ]
  },
  {
   "cell_type": "code",
   "execution_count": 12,
   "metadata": {},
   "outputs": [
    {
     "name": "stdout",
     "output_type": "stream",
     "text": [
      "Epoch 1/50\n"
     ]
    },
    {
     "name": "stdout",
     "output_type": "stream",
     "text": [
      "4/4 [==============================] - 1s 71ms/step - loss: 2.3003 - accuracy: 0.2100 - val_loss: 2.2920 - val_accuracy: 0.1400\n",
      "Epoch 2/50\n",
      "4/4 [==============================] - 0s 24ms/step - loss: 2.0146 - accuracy: 0.3300 - val_loss: 2.2721 - val_accuracy: 0.2100\n",
      "Epoch 3/50\n",
      "4/4 [==============================] - 0s 24ms/step - loss: 1.8606 - accuracy: 0.4200 - val_loss: 2.2067 - val_accuracy: 0.3000\n",
      "Epoch 4/50\n",
      "4/4 [==============================] - 0s 24ms/step - loss: 1.6943 - accuracy: 0.5000 - val_loss: 2.2158 - val_accuracy: 0.2600\n",
      "Epoch 5/50\n",
      "4/4 [==============================] - 0s 23ms/step - loss: 1.5416 - accuracy: 0.5000 - val_loss: 2.1710 - val_accuracy: 0.2500\n",
      "Epoch 6/50\n",
      "4/4 [==============================] - 0s 25ms/step - loss: 1.3856 - accuracy: 0.5700 - val_loss: 2.1353 - val_accuracy: 0.2600\n",
      "Epoch 7/50\n",
      "4/4 [==============================] - 0s 25ms/step - loss: 1.2618 - accuracy: 0.5800 - val_loss: 2.0660 - val_accuracy: 0.2900\n",
      "Epoch 8/50\n",
      "4/4 [==============================] - 0s 28ms/step - loss: 1.1674 - accuracy: 0.6400 - val_loss: 1.9468 - val_accuracy: 0.3600\n",
      "Epoch 9/50\n",
      "4/4 [==============================] - 0s 25ms/step - loss: 1.0540 - accuracy: 0.7400 - val_loss: 1.9232 - val_accuracy: 0.3400\n",
      "Epoch 10/50\n",
      "4/4 [==============================] - 0s 27ms/step - loss: 0.9918 - accuracy: 0.6600 - val_loss: 1.8537 - val_accuracy: 0.3700\n",
      "Epoch 11/50\n",
      "4/4 [==============================] - 0s 26ms/step - loss: 0.9238 - accuracy: 0.7400 - val_loss: 1.8815 - val_accuracy: 0.3600\n",
      "Epoch 12/50\n",
      "4/4 [==============================] - 0s 25ms/step - loss: 0.8504 - accuracy: 0.7700 - val_loss: 2.1078 - val_accuracy: 0.3500\n",
      "Epoch 13/50\n",
      "4/4 [==============================] - 0s 28ms/step - loss: 0.8189 - accuracy: 0.6900 - val_loss: 1.9669 - val_accuracy: 0.3700\n",
      "Epoch 14/50\n",
      "4/4 [==============================] - 0s 26ms/step - loss: 0.7159 - accuracy: 0.8400 - val_loss: 1.9395 - val_accuracy: 0.3400\n",
      "Epoch 15/50\n",
      "4/4 [==============================] - 0s 44ms/step - loss: 0.6615 - accuracy: 0.8700 - val_loss: 2.0845 - val_accuracy: 0.3400\n",
      "Epoch 16/50\n",
      "4/4 [==============================] - 0s 25ms/step - loss: 0.6423 - accuracy: 0.7700 - val_loss: 2.0698 - val_accuracy: 0.3600\n",
      "Epoch 17/50\n",
      "4/4 [==============================] - 0s 29ms/step - loss: 0.6230 - accuracy: 0.8100 - val_loss: 2.0570 - val_accuracy: 0.3400\n",
      "Epoch 18/50\n",
      "4/4 [==============================] - 0s 30ms/step - loss: 0.5442 - accuracy: 0.8900 - val_loss: 2.1337 - val_accuracy: 0.3500\n",
      "Epoch 19/50\n",
      "4/4 [==============================] - 0s 27ms/step - loss: 0.5116 - accuracy: 0.8700 - val_loss: 1.9842 - val_accuracy: 0.3600\n",
      "Epoch 20/50\n",
      "4/4 [==============================] - 0s 29ms/step - loss: 0.4865 - accuracy: 0.9300 - val_loss: 2.0900 - val_accuracy: 0.3300\n",
      "Epoch 21/50\n",
      "4/4 [==============================] - 0s 29ms/step - loss: 0.4518 - accuracy: 0.9000 - val_loss: 2.2621 - val_accuracy: 0.3700\n",
      "Epoch 22/50\n",
      "4/4 [==============================] - 0s 27ms/step - loss: 0.3712 - accuracy: 0.9400 - val_loss: 2.2561 - val_accuracy: 0.3300\n",
      "Epoch 23/50\n",
      "4/4 [==============================] - 0s 28ms/step - loss: 0.3696 - accuracy: 0.9100 - val_loss: 2.2667 - val_accuracy: 0.3200\n",
      "Epoch 24/50\n",
      "4/4 [==============================] - 0s 27ms/step - loss: 0.3131 - accuracy: 0.9700 - val_loss: 2.3830 - val_accuracy: 0.3200\n",
      "Epoch 25/50\n",
      "4/4 [==============================] - 0s 26ms/step - loss: 0.3288 - accuracy: 0.9200 - val_loss: 2.4734 - val_accuracy: 0.3400\n",
      "Epoch 26/50\n",
      "4/4 [==============================] - 0s 28ms/step - loss: 0.2946 - accuracy: 0.9300 - val_loss: 2.3909 - val_accuracy: 0.3500\n",
      "Epoch 27/50\n",
      "4/4 [==============================] - 0s 28ms/step - loss: 0.3080 - accuracy: 0.9300 - val_loss: 2.2769 - val_accuracy: 0.3500\n",
      "Epoch 28/50\n",
      "4/4 [==============================] - 0s 27ms/step - loss: 0.2292 - accuracy: 0.9800 - val_loss: 2.3503 - val_accuracy: 0.3200\n",
      "Epoch 29/50\n",
      "4/4 [==============================] - 0s 27ms/step - loss: 0.2416 - accuracy: 0.9600 - val_loss: 2.4322 - val_accuracy: 0.3500\n",
      "Epoch 30/50\n",
      "4/4 [==============================] - 0s 27ms/step - loss: 0.2033 - accuracy: 0.9700 - val_loss: 2.5967 - val_accuracy: 0.3300\n",
      "Epoch 31/50\n",
      "4/4 [==============================] - 0s 28ms/step - loss: 0.1802 - accuracy: 0.9700 - val_loss: 2.7711 - val_accuracy: 0.3300\n",
      "Epoch 32/50\n",
      "4/4 [==============================] - 0s 26ms/step - loss: 0.1882 - accuracy: 0.9600 - val_loss: 2.5209 - val_accuracy: 0.3500\n",
      "Epoch 33/50\n",
      "4/4 [==============================] - 0s 29ms/step - loss: 0.1486 - accuracy: 0.9900 - val_loss: 2.4194 - val_accuracy: 0.3300\n",
      "Epoch 34/50\n",
      "4/4 [==============================] - 0s 27ms/step - loss: 0.1516 - accuracy: 0.9900 - val_loss: 2.4706 - val_accuracy: 0.3400\n",
      "Epoch 35/50\n",
      "4/4 [==============================] - 0s 28ms/step - loss: 0.1399 - accuracy: 0.9800 - val_loss: 2.6085 - val_accuracy: 0.3300\n",
      "Epoch 36/50\n",
      "4/4 [==============================] - 0s 29ms/step - loss: 0.1051 - accuracy: 0.9900 - val_loss: 2.6093 - val_accuracy: 0.3300\n",
      "Epoch 37/50\n",
      "4/4 [==============================] - 0s 39ms/step - loss: 0.1156 - accuracy: 1.0000 - val_loss: 2.6016 - val_accuracy: 0.3500\n",
      "Epoch 38/50\n",
      "4/4 [==============================] - 0s 26ms/step - loss: 0.1038 - accuracy: 1.0000 - val_loss: 2.7410 - val_accuracy: 0.3400\n",
      "Epoch 39/50\n",
      "4/4 [==============================] - 0s 31ms/step - loss: 0.0802 - accuracy: 0.9800 - val_loss: 3.0854 - val_accuracy: 0.3600\n",
      "Epoch 40/50\n",
      "4/4 [==============================] - 0s 28ms/step - loss: 0.0975 - accuracy: 1.0000 - val_loss: 2.9015 - val_accuracy: 0.3300\n",
      "Epoch 41/50\n",
      "4/4 [==============================] - 0s 49ms/step - loss: 0.0721 - accuracy: 1.0000 - val_loss: 2.7556 - val_accuracy: 0.3600\n",
      "Epoch 42/50\n",
      "4/4 [==============================] - 0s 28ms/step - loss: 0.0587 - accuracy: 1.0000 - val_loss: 2.8401 - val_accuracy: 0.3400\n",
      "Epoch 43/50\n",
      "4/4 [==============================] - 0s 28ms/step - loss: 0.0573 - accuracy: 1.0000 - val_loss: 2.8365 - val_accuracy: 0.3300\n",
      "Epoch 44/50\n",
      "4/4 [==============================] - 0s 27ms/step - loss: 0.0508 - accuracy: 1.0000 - val_loss: 2.8011 - val_accuracy: 0.3400\n",
      "Epoch 45/50\n",
      "4/4 [==============================] - 0s 27ms/step - loss: 0.0446 - accuracy: 1.0000 - val_loss: 2.8550 - val_accuracy: 0.3600\n",
      "Epoch 46/50\n",
      "4/4 [==============================] - 0s 27ms/step - loss: 0.0414 - accuracy: 1.0000 - val_loss: 2.9162 - val_accuracy: 0.3500\n",
      "Epoch 47/50\n",
      "4/4 [==============================] - 0s 27ms/step - loss: 0.0387 - accuracy: 1.0000 - val_loss: 2.9663 - val_accuracy: 0.3400\n",
      "Epoch 48/50\n",
      "4/4 [==============================] - 0s 28ms/step - loss: 0.0352 - accuracy: 1.0000 - val_loss: 2.9674 - val_accuracy: 0.3300\n",
      "Epoch 49/50\n",
      "4/4 [==============================] - 0s 28ms/step - loss: 0.0332 - accuracy: 1.0000 - val_loss: 2.9248 - val_accuracy: 0.3400\n",
      "Epoch 50/50\n",
      "4/4 [==============================] - 0s 29ms/step - loss: 0.0317 - accuracy: 1.0000 - val_loss: 2.9231 - val_accuracy: 0.3400\n"
     ]
    },
    {
     "data": {
      "text/plain": [
       "<keras.src.callbacks.History at 0x255c4790c40>"
      ]
     },
     "execution_count": 12,
     "metadata": {},
     "output_type": "execute_result"
    }
   ],
   "source": [
    "model.fit(x_train,y_train,validation_data=(x_test,y_test),epochs=50)"
   ]
  },
  {
   "cell_type": "code",
   "execution_count": 13,
   "metadata": {},
   "outputs": [
    {
     "name": "stdout",
     "output_type": "stream",
     "text": [
      "4/4 [==============================] - 0s 9ms/step - loss: 2.9231 - accuracy: 0.3400\n",
      "Loss:  2.9230563640594482\n",
      "Accuracy:  0.3400000035762787\n"
     ]
    }
   ],
   "source": [
    "test_loss, test_accuracy = model.evaluate(x_test, y_test)\n",
    "print(\"Loss: \", test_loss)\n",
    "print(\"Accuracy: \", test_accuracy)"
   ]
  },
  {
   "cell_type": "code",
   "execution_count": 14,
   "metadata": {},
   "outputs": [
    {
     "name": "stdout",
     "output_type": "stream",
     "text": [
      "4/4 [==============================] - 0s 4ms/step\n",
      "Actual Number:  7\n",
      "Predicted Number:  8\n"
     ]
    },
    {
     "data": {
      "image/png": "[encoded data removed]",
      "text/plain": [
       "<Figure size 640x480 with 1 Axes>"
      ]
     },
     "metadata": {},
     "output_type": "display_data"
    }
   ],
   "source": [
    "n = 30 \n",
    "plt.imshow(x_test[n])\n",
    "predicted_value = model.predict(x_test)\n",
    "print(\"Actual Number: \",np.argmax(y_test[n]))\n",
    "print(\"Predicted Number: \", np.argmax(predicted_value[n]))"
   ]
  },
  {
   "cell_type": "code",
   "execution_count": null,
   "metadata": {},
   "outputs": [],
   "source": []
  }
 ],
 "metadata": {
  "kernelspec": {
   "display_name": "Python 3",
   "language": "python",
   "name": "python3"
  },
  "language_info": {
   "codemirror_mode": {
    "name": "ipython",
    "version": 3
   },
   "file_extension": ".py",
   "mimetype": "text/x-python",
   "name": "python",
   "nbconvert_exporter": "python",
   "pygments_lexer": "ipython3",
   "version": "3.10.7"
  }
 },
 "nbformat": 4,
 "nbformat_minor": 2
}
