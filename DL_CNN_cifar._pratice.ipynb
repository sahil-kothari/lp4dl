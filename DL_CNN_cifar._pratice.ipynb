{
 "cells": [
  {
   "cell_type": "code",
   "execution_count": 1,
   "metadata": {},
   "outputs": [
    {
     "name": "stderr",
     "output_type": "stream",
     "text": [
      "c:\\Users\\mhatr\\AppData\\Local\\Programs\\Python\\Python310\\lib\\site-packages\\scipy\\__init__.py:155: UserWarning: A NumPy version >=1.18.5 and <1.25.0 is required for this version of SciPy (detected version 1.26.1\n",
      "  warnings.warn(f\"A NumPy version >={np_minversion} and <{np_maxversion}\"\n"
     ]
    }
   ],
   "source": [
    "import tensorflow as tf\n",
    "import keras\n",
    "from keras import layers, models\n",
    "from keras.preprocessing.image import ImageDataGenerator\n",
    "import pandas as pd\n",
    "import numpy as np\n",
    "import matplotlib.pyplot as plt\n",
    "import os"
   ]
  },
  {
   "cell_type": "code",
   "execution_count": 2,
   "metadata": {},
   "outputs": [],
   "source": [
    "train_datagen=ImageDataGenerator(\n",
    "    rescale=1/255\n",
    ")\n",
    "\n",
    "test_datagen=ImageDataGenerator(\n",
    "    rescale=1/255\n",
    ")"
   ]
  },
  {
   "cell_type": "code",
   "execution_count": 3,
   "metadata": {},
   "outputs": [
    {
     "name": "stdout",
     "output_type": "stream",
     "text": [
      "Found 300 images belonging to 10 classes.\n",
      "Found 300 images belonging to 10 classes.\n"
     ]
    }
   ],
   "source": [
    "train_dir='/DL/images/train/'\n",
    "test_dir='/DL/images/test/'\n",
    "\n",
    "train_generator=train_datagen.flow_from_directory(\n",
    "    train_dir,\n",
    "    target_size=(28,28),\n",
    "    class_mode=\"sparse\",\n",
    "    color_mode='grayscale',\n",
    "    batch_size=100\n",
    ")\n",
    "\n",
    "test_generator=test_datagen.flow_from_directory(\n",
    "    test_dir,\n",
    "    target_size=(28,28),\n",
    "    class_mode=\"sparse\",\n",
    "    color_mode='grayscale',\n",
    "    batch_size=100\n",
    ")"
   ]
  },
  {
   "cell_type": "code",
   "execution_count": 4,
   "metadata": {},
   "outputs": [],
   "source": [
    "x_train,y_train=train_generator[0]\n",
    "x_test,y_test=test_generator[0]"
   ]
  },
  {
   "cell_type": "code",
   "execution_count": 13,
   "metadata": {},
   "outputs": [
    {
     "name": "stdout",
     "output_type": "stream",
     "text": [
      "Model: \"sequential_3\"\n",
      "_________________________________________________________________\n",
      " Layer (type)                Output Shape              Param #   \n",
      "=================================================================\n",
      " conv2d_3 (Conv2D)           (None, 26, 26, 32)        320       \n",
      "                                                                 \n",
      " max_pooling2d_3 (MaxPoolin  (None, 13, 13, 32)        0         \n",
      " g2D)                                                            \n",
      "                                                                 \n",
      " flatten_3 (Flatten)         (None, 5408)              0         \n",
      "                                                                 \n",
      " dense_6 (Dense)             (None, 64)                346176    \n",
      "                                                                 \n",
      " dense_7 (Dense)             (None, 10)                650       \n",
      "                                                                 \n",
      "=================================================================\n",
      "Total params: 347146 (1.32 MB)\n",
      "Trainable params: 347146 (1.32 MB)\n",
      "Non-trainable params: 0 (0.00 Byte)\n",
      "_________________________________________________________________\n"
     ]
    }
   ],
   "source": [
    "model=models.Sequential([\n",
    "    layers.Conv2D(32,(3,3),activation='relu',input_shape=(28,28,1)),\n",
    "    layers.MaxPooling2D((2,2)),\n",
    "    layers.Flatten(),\n",
    "    layers.Dense(64,activation='relu'),\n",
    "    layers.Dense(10,activation='softmax')\n",
    "])\n",
    "\n",
    "model.compile(optimizer='adam',loss='sparse_categorical_crossentropy',metrics=['accuracy'])\n",
    "\n",
    "model.summary()"
   ]
  },
  {
   "cell_type": "code",
   "execution_count": 14,
   "metadata": {},
   "outputs": [
    {
     "name": "stdout",
     "output_type": "stream",
     "text": [
      "Epoch 1/50\n"
     ]
    },
    {
     "name": "stdout",
     "output_type": "stream",
     "text": [
      "4/4 [==============================] - 1s 86ms/step - loss: 2.3070 - accuracy: 0.1000 - val_loss: 2.3467 - val_accuracy: 0.1200\n",
      "Epoch 2/50\n",
      "4/4 [==============================] - 0s 28ms/step - loss: 2.2685 - accuracy: 0.1700 - val_loss: 2.2929 - val_accuracy: 0.1000\n",
      "Epoch 3/50\n",
      "4/4 [==============================] - 0s 42ms/step - loss: 2.2062 - accuracy: 0.2100 - val_loss: 2.2441 - val_accuracy: 0.1800\n",
      "Epoch 4/50\n",
      "4/4 [==============================] - 0s 32ms/step - loss: 2.1966 - accuracy: 0.2300 - val_loss: 2.2444 - val_accuracy: 0.1500\n",
      "Epoch 5/50\n",
      "4/4 [==============================] - 0s 28ms/step - loss: 2.1455 - accuracy: 0.2600 - val_loss: 2.2276 - val_accuracy: 0.1500\n",
      "Epoch 6/50\n",
      "4/4 [==============================] - 0s 28ms/step - loss: 2.1049 - accuracy: 0.1900 - val_loss: 2.3218 - val_accuracy: 0.1200\n",
      "Epoch 7/50\n",
      "4/4 [==============================] - 0s 26ms/step - loss: 2.1142 - accuracy: 0.1800 - val_loss: 2.2791 - val_accuracy: 0.1300\n",
      "Epoch 8/50\n",
      "4/4 [==============================] - 0s 29ms/step - loss: 2.0476 - accuracy: 0.2300 - val_loss: 2.2624 - val_accuracy: 0.1000\n",
      "Epoch 9/50\n",
      "4/4 [==============================] - 0s 29ms/step - loss: 2.0063 - accuracy: 0.2400 - val_loss: 2.2291 - val_accuracy: 0.1500\n",
      "Epoch 10/50\n",
      "4/4 [==============================] - 0s 29ms/step - loss: 2.0013 - accuracy: 0.3000 - val_loss: 2.2357 - val_accuracy: 0.2400\n",
      "Epoch 11/50\n",
      "4/4 [==============================] - 0s 27ms/step - loss: 2.0056 - accuracy: 0.3700 - val_loss: 2.2070 - val_accuracy: 0.2100\n",
      "Epoch 12/50\n",
      "4/4 [==============================] - 0s 26ms/step - loss: 1.9324 - accuracy: 0.3500 - val_loss: 2.2402 - val_accuracy: 0.1300\n",
      "Epoch 13/50\n",
      "4/4 [==============================] - 0s 30ms/step - loss: 1.8976 - accuracy: 0.3000 - val_loss: 2.2831 - val_accuracy: 0.1000\n",
      "Epoch 14/50\n",
      "4/4 [==============================] - 0s 25ms/step - loss: 1.8834 - accuracy: 0.2400 - val_loss: 2.2308 - val_accuracy: 0.1100\n",
      "Epoch 15/50\n",
      "4/4 [==============================] - 0s 25ms/step - loss: 1.8265 - accuracy: 0.2800 - val_loss: 2.2096 - val_accuracy: 0.1400\n",
      "Epoch 16/50\n",
      "4/4 [==============================] - 0s 25ms/step - loss: 1.7935 - accuracy: 0.4000 - val_loss: 2.2209 - val_accuracy: 0.1500\n",
      "Epoch 17/50\n",
      "4/4 [==============================] - 0s 23ms/step - loss: 1.7586 - accuracy: 0.4100 - val_loss: 2.2598 - val_accuracy: 0.1700\n",
      "Epoch 18/50\n",
      "4/4 [==============================] - 0s 27ms/step - loss: 1.7552 - accuracy: 0.4200 - val_loss: 2.2360 - val_accuracy: 0.1300\n",
      "Epoch 19/50\n",
      "4/4 [==============================] - 0s 27ms/step - loss: 1.6574 - accuracy: 0.4500 - val_loss: 2.2031 - val_accuracy: 0.1100\n",
      "Epoch 20/50\n",
      "4/4 [==============================] - 0s 34ms/step - loss: 1.6523 - accuracy: 0.4600 - val_loss: 2.2025 - val_accuracy: 0.2400\n",
      "Epoch 21/50\n",
      "4/4 [==============================] - 0s 30ms/step - loss: 1.6255 - accuracy: 0.4500 - val_loss: 2.2255 - val_accuracy: 0.2200\n",
      "Epoch 22/50\n",
      "4/4 [==============================] - 0s 26ms/step - loss: 1.5785 - accuracy: 0.4300 - val_loss: 2.1708 - val_accuracy: 0.2300\n",
      "Epoch 23/50\n",
      "4/4 [==============================] - 0s 28ms/step - loss: 1.5180 - accuracy: 0.5000 - val_loss: 2.1831 - val_accuracy: 0.1900\n",
      "Epoch 24/50\n",
      "4/4 [==============================] - 0s 22ms/step - loss: 1.4917 - accuracy: 0.5100 - val_loss: 2.2337 - val_accuracy: 0.1600\n",
      "Epoch 25/50\n",
      "4/4 [==============================] - 0s 40ms/step - loss: 1.4403 - accuracy: 0.5900 - val_loss: 2.1512 - val_accuracy: 0.2800\n",
      "Epoch 26/50\n",
      "4/4 [==============================] - 0s 22ms/step - loss: 1.4142 - accuracy: 0.6100 - val_loss: 2.1437 - val_accuracy: 0.2200\n",
      "Epoch 27/50\n",
      "4/4 [==============================] - 0s 28ms/step - loss: 1.3795 - accuracy: 0.5900 - val_loss: 2.1689 - val_accuracy: 0.2600\n",
      "Epoch 28/50\n",
      "4/4 [==============================] - 0s 26ms/step - loss: 1.3047 - accuracy: 0.5500 - val_loss: 2.2692 - val_accuracy: 0.1600\n",
      "Epoch 29/50\n",
      "4/4 [==============================] - 0s 26ms/step - loss: 1.3488 - accuracy: 0.6000 - val_loss: 2.2297 - val_accuracy: 0.1600\n",
      "Epoch 30/50\n",
      "4/4 [==============================] - 0s 25ms/step - loss: 1.2532 - accuracy: 0.6900 - val_loss: 2.1826 - val_accuracy: 0.2700\n",
      "Epoch 31/50\n",
      "4/4 [==============================] - 0s 24ms/step - loss: 1.2455 - accuracy: 0.6200 - val_loss: 2.2003 - val_accuracy: 0.2700\n",
      "Epoch 32/50\n",
      "4/4 [==============================] - 0s 22ms/step - loss: 1.1559 - accuracy: 0.6900 - val_loss: 2.2504 - val_accuracy: 0.1800\n",
      "Epoch 33/50\n",
      "4/4 [==============================] - 0s 24ms/step - loss: 1.1298 - accuracy: 0.6900 - val_loss: 2.2410 - val_accuracy: 0.1600\n",
      "Epoch 34/50\n",
      "4/4 [==============================] - 0s 26ms/step - loss: 1.1187 - accuracy: 0.6700 - val_loss: 2.2241 - val_accuracy: 0.2200\n",
      "Epoch 35/50\n",
      "4/4 [==============================] - 0s 27ms/step - loss: 1.0512 - accuracy: 0.7100 - val_loss: 2.3454 - val_accuracy: 0.1800\n",
      "Epoch 36/50\n",
      "4/4 [==============================] - 0s 25ms/step - loss: 1.0502 - accuracy: 0.6800 - val_loss: 2.2148 - val_accuracy: 0.2900\n",
      "Epoch 37/50\n",
      "4/4 [==============================] - 0s 24ms/step - loss: 0.9852 - accuracy: 0.7200 - val_loss: 2.3080 - val_accuracy: 0.2200\n",
      "Epoch 38/50\n",
      "4/4 [==============================] - 0s 27ms/step - loss: 0.9819 - accuracy: 0.7400 - val_loss: 2.4234 - val_accuracy: 0.2500\n",
      "Epoch 39/50\n",
      "4/4 [==============================] - 0s 25ms/step - loss: 0.9858 - accuracy: 0.6500 - val_loss: 2.3814 - val_accuracy: 0.2600\n",
      "Epoch 40/50\n",
      "4/4 [==============================] - 0s 27ms/step - loss: 0.9305 - accuracy: 0.6900 - val_loss: 2.3999 - val_accuracy: 0.2200\n",
      "Epoch 41/50\n",
      "4/4 [==============================] - 0s 25ms/step - loss: 0.9317 - accuracy: 0.7400 - val_loss: 2.3498 - val_accuracy: 0.2100\n",
      "Epoch 42/50\n",
      "4/4 [==============================] - 0s 24ms/step - loss: 0.9306 - accuracy: 0.7500 - val_loss: 2.3461 - val_accuracy: 0.2600\n",
      "Epoch 43/50\n",
      "4/4 [==============================] - 0s 24ms/step - loss: 0.8849 - accuracy: 0.7300 - val_loss: 2.6712 - val_accuracy: 0.1800\n",
      "Epoch 44/50\n",
      "4/4 [==============================] - 0s 27ms/step - loss: 0.9032 - accuracy: 0.7200 - val_loss: 2.4128 - val_accuracy: 0.1700\n",
      "Epoch 45/50\n",
      "4/4 [==============================] - 0s 23ms/step - loss: 0.7871 - accuracy: 0.8600 - val_loss: 2.2996 - val_accuracy: 0.2200\n",
      "Epoch 46/50\n",
      "4/4 [==============================] - 0s 25ms/step - loss: 0.7793 - accuracy: 0.8700 - val_loss: 2.3088 - val_accuracy: 0.2300\n",
      "Epoch 47/50\n",
      "4/4 [==============================] - 0s 25ms/step - loss: 0.7070 - accuracy: 0.9000 - val_loss: 2.3578 - val_accuracy: 0.2200\n",
      "Epoch 48/50\n",
      "4/4 [==============================] - 0s 35ms/step - loss: 0.6641 - accuracy: 0.9300 - val_loss: 2.3645 - val_accuracy: 0.2000\n",
      "Epoch 49/50\n",
      "4/4 [==============================] - 0s 25ms/step - loss: 0.6267 - accuracy: 0.9200 - val_loss: 2.3428 - val_accuracy: 0.3000\n",
      "Epoch 50/50\n",
      "4/4 [==============================] - 0s 28ms/step - loss: 0.6255 - accuracy: 0.8900 - val_loss: 2.3672 - val_accuracy: 0.3200\n"
     ]
    },
    {
     "data": {
      "text/plain": [
       "<keras.src.callbacks.History at 0x2cf282b1db0>"
      ]
     },
     "execution_count": 14,
     "metadata": {},
     "output_type": "execute_result"
    }
   ],
   "source": [
    "model.fit(x_train,y_train,validation_data=(x_test,y_test),epochs=50)"
   ]
  },
  {
   "cell_type": "code",
   "execution_count": 15,
   "metadata": {},
   "outputs": [
    {
     "name": "stdout",
     "output_type": "stream",
     "text": [
      "4/4 [==============================] - 0s 6ms/step - loss: 2.3672 - accuracy: 0.3200\n",
      "Loss:  2.367219924926758\n",
      "Accuracy:  0.3199999928474426\n"
     ]
    }
   ],
   "source": [
    "test_loss, test_accuracy = model.evaluate(x_test, y_test)\n",
    "print(\"Loss: \", test_loss)\n",
    "print(\"Accuracy: \", test_accuracy)"
   ]
  },
  {
   "cell_type": "code",
   "execution_count": 16,
   "metadata": {},
   "outputs": [
    {
     "name": "stdout",
     "output_type": "stream",
     "text": [
      "4/4 [==============================] - 0s 8ms/step\n",
      "Actual Number:  0\n",
      "Predicted Number:  8\n"
     ]
    },
    {
     "data": {
      "image/png": "[encoded data removed]",
      "text/plain": [
       "<Figure size 640x480 with 1 Axes>"
      ]
     },
     "metadata": {},
     "output_type": "display_data"
    }
   ],
   "source": [
    "n = 30 \n",
    "plt.imshow(x_test[n])\n",
    "predicted_value = model.predict(x_test)\n",
    "print(\"Actual Number: \",np.argmax(y_test[n]))\n",
    "print(\"Predicted Number: \", np.argmax(predicted_value[n]))"
   ]
  },
  {
   "cell_type": "code",
   "execution_count": null,
   "metadata": {},
   "outputs": [],
   "source": []
  }
 ],
 "metadata": {
  "kernelspec": {
   "display_name": "Python 3",
   "language": "python",
   "name": "python3"
  },
  "language_info": {
   "codemirror_mode": {
    "name": "ipython",
    "version": 3
   },
   "file_extension": ".py",
   "mimetype": "text/x-python",
   "name": "python",
   "nbconvert_exporter": "python",
   "pygments_lexer": "ipython3",
   "version": "3.10.7"
  }
 },
 "nbformat": 4,
 "nbformat_minor": 2
}
